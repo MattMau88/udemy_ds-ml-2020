{
 "cells": [
  {
   "cell_type": "code",
   "execution_count": 1,
   "metadata": {},
   "outputs": [
    {
     "name": "stdout",
     "output_type": "stream",
     "text": [
      "32\n"
     ]
    }
   ],
   "source": [
    "myAge = 32\n",
    "print(myAge)"
   ]
  },
  {
   "cell_type": "code",
   "execution_count": 2,
   "metadata": {},
   "outputs": [
    {
     "name": "stdout",
     "output_type": "stream",
     "text": [
      "33\n"
     ]
    }
   ],
   "source": [
    "myAge = 33\n",
    "print(myAge)"
   ]
  },
  {
   "cell_type": "code",
   "execution_count": 3,
   "metadata": {},
   "outputs": [
    {
     "name": "stdout",
     "output_type": "stream",
     "text": [
      "11.0\n"
     ]
    }
   ],
   "source": [
    "print(myAge/3)"
   ]
  },
  {
   "cell_type": "code",
   "execution_count": 4,
   "metadata": {},
   "outputs": [
    {
     "name": "stdout",
     "output_type": "stream",
     "text": [
      "34\n"
     ]
    }
   ],
   "source": [
    "myAge = myAge + 1\n",
    "print(myAge)"
   ]
  },
  {
   "cell_type": "code",
   "execution_count": 5,
   "metadata": {},
   "outputs": [
    {
     "name": "stdout",
     "output_type": "stream",
     "text": [
      "4.52125\n"
     ]
    }
   ],
   "source": [
    "restaurantBill = 36.17\n",
    "serviceCharge = 0.125\n",
    "tip = restaurantBill * serviceCharge\n",
    "print(tip)"
   ]
  },
  {
   "cell_type": "code",
   "execution_count": 6,
   "metadata": {},
   "outputs": [
    {
     "data": {
      "text/plain": [
       "int"
      ]
     },
     "execution_count": 6,
     "metadata": {},
     "output_type": "execute_result"
    }
   ],
   "source": [
    "type(33)"
   ]
  },
  {
   "cell_type": "code",
   "execution_count": 7,
   "metadata": {},
   "outputs": [
    {
     "data": {
      "text/plain": [
       "float"
      ]
     },
     "execution_count": 7,
     "metadata": {},
     "output_type": "execute_result"
    }
   ],
   "source": [
    "type(33.6)"
   ]
  },
  {
   "cell_type": "code",
   "execution_count": 8,
   "metadata": {},
   "outputs": [
    {
     "data": {
      "text/plain": [
       "str"
      ]
     },
     "execution_count": 8,
     "metadata": {},
     "output_type": "execute_result"
    }
   ],
   "source": [
    "type(\"Matt\")"
   ]
  },
  {
   "cell_type": "code",
   "execution_count": 9,
   "metadata": {},
   "outputs": [
    {
     "data": {
      "text/plain": [
       "int"
      ]
     },
     "execution_count": 9,
     "metadata": {},
     "output_type": "execute_result"
    }
   ],
   "source": [
    "type(myAge)"
   ]
  },
  {
   "cell_type": "code",
   "execution_count": 10,
   "metadata": {},
   "outputs": [
    {
     "data": {
      "text/plain": [
       "float"
      ]
     },
     "execution_count": 10,
     "metadata": {},
     "output_type": "execute_result"
    }
   ],
   "source": [
    "type(restaurantBill)"
   ]
  },
  {
   "cell_type": "code",
   "execution_count": 11,
   "metadata": {},
   "outputs": [
    {
     "data": {
      "text/plain": [
       "list"
      ]
     },
     "execution_count": 11,
     "metadata": {},
     "output_type": "execute_result"
    }
   ],
   "source": [
    "# Python \"List\" (items within can have different types)\n",
    "primeNumbers = [3, 7, 61, 29, 199]\n",
    "type(primeNumbers)"
   ]
  },
  {
   "cell_type": "code",
   "execution_count": 12,
   "metadata": {},
   "outputs": [
    {
     "data": {
      "text/plain": [
       "list"
      ]
     },
     "execution_count": 12,
     "metadata": {},
     "output_type": "execute_result"
    }
   ],
   "source": [
    "coolPeople = ['Rafa', 'Roger', 'Matt']\n",
    "primeAndPeople = ['King Arthur', 17, 11, 'James']\n",
    "type(primeAndPeople)"
   ]
  },
  {
   "cell_type": "code",
   "execution_count": 13,
   "metadata": {},
   "outputs": [
    {
     "data": {
      "text/plain": [
       "11"
      ]
     },
     "execution_count": 13,
     "metadata": {},
     "output_type": "execute_result"
    }
   ],
   "source": [
    "primeAndPeople[2]"
   ]
  },
  {
   "cell_type": "code",
   "execution_count": 14,
   "metadata": {},
   "outputs": [
    {
     "name": "stdout",
     "output_type": "stream",
     "text": [
      "199\n"
     ]
    }
   ],
   "source": [
    "bestPrime = primeNumbers[4]\n",
    "print(bestPrime)"
   ]
  },
  {
   "cell_type": "code",
   "execution_count": 15,
   "metadata": {},
   "outputs": [],
   "source": [
    "# Python \"Array\" = numpy.ndarray (items within must be of same type)\n",
    "nmubers = ([1, 2, 3, 4, 5])"
   ]
  },
  {
   "cell_type": "code",
   "execution_count": 16,
   "metadata": {},
   "outputs": [],
   "source": [
    "# dataframes\n",
    "import pandas as pd\n",
    "data = pd.read_csv('lsd_math_score_data.csv')"
   ]
  },
  {
   "cell_type": "code",
   "execution_count": 17,
   "metadata": {},
   "outputs": [
    {
     "name": "stdout",
     "output_type": "stream",
     "text": [
      "   Time_Delay_in_Minutes  LSD_ppm  Avg_Math_Test_Score\n",
      "0                      5     1.17                78.93\n",
      "1                     15     2.97                58.20\n",
      "2                     30     3.26                67.47\n",
      "3                     60     4.69                37.47\n",
      "4                    120     5.83                45.65\n",
      "5                    240     6.00                32.92\n",
      "6                    480     6.41                29.97\n"
     ]
    }
   ],
   "source": [
    "print(data)"
   ]
  },
  {
   "cell_type": "code",
   "execution_count": 18,
   "metadata": {},
   "outputs": [
    {
     "data": {
      "text/plain": [
       "pandas.core.frame.DataFrame"
      ]
     },
     "execution_count": 18,
     "metadata": {},
     "output_type": "execute_result"
    }
   ],
   "source": [
    "type(data)"
   ]
  },
  {
   "cell_type": "code",
   "execution_count": 19,
   "metadata": {},
   "outputs": [
    {
     "data": {
      "text/plain": [
       "0    78.93\n",
       "1    58.20\n",
       "2    67.47\n",
       "3    37.47\n",
       "4    45.65\n",
       "5    32.92\n",
       "6    29.97\n",
       "Name: Avg_Math_Test_Score, dtype: float64"
      ]
     },
     "execution_count": 19,
     "metadata": {},
     "output_type": "execute_result"
    }
   ],
   "source": [
    "data['Avg_Math_Test_Score']"
   ]
  },
  {
   "cell_type": "code",
   "execution_count": 20,
   "metadata": {},
   "outputs": [
    {
     "name": "stdout",
     "output_type": "stream",
     "text": [
      "0    78.93\n",
      "1    58.20\n",
      "2    67.47\n",
      "3    37.47\n",
      "4    45.65\n",
      "5    32.92\n",
      "6    29.97\n",
      "Name: Avg_Math_Test_Score, dtype: float64\n"
     ]
    }
   ],
   "source": [
    "onlyMathScore = data['Avg_Math_Test_Score']\n",
    "print(onlyMathScore)"
   ]
  },
  {
   "cell_type": "code",
   "execution_count": 21,
   "metadata": {},
   "outputs": [],
   "source": [
    "# adding new column to exting dataframe\n",
    "data['Test_Subject'] = 'Jennifer Lopez'"
   ]
  },
  {
   "cell_type": "code",
   "execution_count": 22,
   "metadata": {},
   "outputs": [
    {
     "name": "stdout",
     "output_type": "stream",
     "text": [
      "   Time_Delay_in_Minutes  LSD_ppm  Avg_Math_Test_Score    Test_Subject\n",
      "0                      5     1.17                78.93  Jennifer Lopez\n",
      "1                     15     2.97                58.20  Jennifer Lopez\n",
      "2                     30     3.26                67.47  Jennifer Lopez\n",
      "3                     60     4.69                37.47  Jennifer Lopez\n",
      "4                    120     5.83                45.65  Jennifer Lopez\n",
      "5                    240     6.00                32.92  Jennifer Lopez\n",
      "6                    480     6.41                29.97  Jennifer Lopez\n"
     ]
    }
   ],
   "source": [
    "print(data)"
   ]
  },
  {
   "cell_type": "code",
   "execution_count": 23,
   "metadata": {},
   "outputs": [],
   "source": [
    "data['High_Score'] = 100"
   ]
  },
  {
   "cell_type": "code",
   "execution_count": 24,
   "metadata": {},
   "outputs": [
    {
     "name": "stdout",
     "output_type": "stream",
     "text": [
      "   Time_Delay_in_Minutes  LSD_ppm  Avg_Math_Test_Score    Test_Subject  \\\n",
      "0                      5     1.17                78.93  Jennifer Lopez   \n",
      "1                     15     2.97                58.20  Jennifer Lopez   \n",
      "2                     30     3.26                67.47  Jennifer Lopez   \n",
      "3                     60     4.69                37.47  Jennifer Lopez   \n",
      "4                    120     5.83                45.65  Jennifer Lopez   \n",
      "5                    240     6.00                32.92  Jennifer Lopez   \n",
      "6                    480     6.41                29.97  Jennifer Lopez   \n",
      "\n",
      "   High_Score  \n",
      "0         100  \n",
      "1         100  \n",
      "2         100  \n",
      "3         100  \n",
      "4         100  \n",
      "5         100  \n",
      "6         100  \n"
     ]
    }
   ],
   "source": [
    "print(data)"
   ]
  },
  {
   "cell_type": "code",
   "execution_count": 25,
   "metadata": {},
   "outputs": [],
   "source": [
    "data['High_Score'] = 150"
   ]
  },
  {
   "cell_type": "code",
   "execution_count": 26,
   "metadata": {},
   "outputs": [
    {
     "name": "stdout",
     "output_type": "stream",
     "text": [
      "   Time_Delay_in_Minutes  LSD_ppm  Avg_Math_Test_Score    Test_Subject  \\\n",
      "0                      5     1.17                78.93  Jennifer Lopez   \n",
      "1                     15     2.97                58.20  Jennifer Lopez   \n",
      "2                     30     3.26                67.47  Jennifer Lopez   \n",
      "3                     60     4.69                37.47  Jennifer Lopez   \n",
      "4                    120     5.83                45.65  Jennifer Lopez   \n",
      "5                    240     6.00                32.92  Jennifer Lopez   \n",
      "6                    480     6.41                29.97  Jennifer Lopez   \n",
      "\n",
      "   High_Score  \n",
      "0         150  \n",
      "1         150  \n",
      "2         150  \n",
      "3         150  \n",
      "4         150  \n",
      "5         150  \n",
      "6         150  \n"
     ]
    }
   ],
   "source": [
    "print(data)"
   ]
  },
  {
   "cell_type": "code",
   "execution_count": 27,
   "metadata": {},
   "outputs": [],
   "source": [
    "data['Squared_High_Scores'] = data['High_Score']*data['High_Score']"
   ]
  },
  {
   "cell_type": "code",
   "execution_count": 28,
   "metadata": {},
   "outputs": [
    {
     "name": "stdout",
     "output_type": "stream",
     "text": [
      "   Time_Delay_in_Minutes  LSD_ppm  Avg_Math_Test_Score    Test_Subject  \\\n",
      "0                      5     1.17                78.93  Jennifer Lopez   \n",
      "1                     15     2.97                58.20  Jennifer Lopez   \n",
      "2                     30     3.26                67.47  Jennifer Lopez   \n",
      "3                     60     4.69                37.47  Jennifer Lopez   \n",
      "4                    120     5.83                45.65  Jennifer Lopez   \n",
      "5                    240     6.00                32.92  Jennifer Lopez   \n",
      "6                    480     6.41                29.97  Jennifer Lopez   \n",
      "\n",
      "   High_Score  Squared_High_Scores  \n",
      "0         150                22500  \n",
      "1         150                22500  \n",
      "2         150                22500  \n",
      "3         150                22500  \n",
      "4         150                22500  \n",
      "5         150                22500  \n",
      "6         150                22500  \n"
     ]
    }
   ],
   "source": [
    "print(data)"
   ]
  },
  {
   "cell_type": "code",
   "execution_count": 29,
   "metadata": {},
   "outputs": [
    {
     "data": {
      "text/plain": [
       "pandas.core.series.Series"
      ]
     },
     "execution_count": 29,
     "metadata": {},
     "output_type": "execute_result"
    }
   ],
   "source": [
    "# Python \"Series\" -> has only one column\n",
    "type(onlyMathScore)"
   ]
  },
  {
   "cell_type": "code",
   "execution_count": 30,
   "metadata": {},
   "outputs": [],
   "source": [
    "# Python dataframe -> collection of series -> has rows and columns"
   ]
  },
  {
   "cell_type": "code",
   "execution_count": 31,
   "metadata": {},
   "outputs": [
    {
     "name": "stdout",
     "output_type": "stream",
     "text": [
      "   LSD_ppm  Avg_Math_Test_Score\n",
      "0     1.17                78.93\n",
      "1     2.97                58.20\n",
      "2     3.26                67.47\n",
      "3     4.69                37.47\n",
      "4     5.83                45.65\n",
      "5     6.00                32.92\n",
      "6     6.41                29.97\n"
     ]
    }
   ],
   "source": [
    "# create a new list (=Dataframe) that contains only two columns (=series) of data\n",
    "columnList = ['LSD_ppm', 'Avg_Math_Test_Score']\n",
    "cleanData = data[columnList]\n",
    "print(cleanData)"
   ]
  },
  {
   "cell_type": "code",
   "execution_count": 32,
   "metadata": {},
   "outputs": [
    {
     "data": {
      "text/plain": [
       "pandas.core.frame.DataFrame"
      ]
     },
     "execution_count": 32,
     "metadata": {},
     "output_type": "execute_result"
    }
   ],
   "source": [
    "type(cleanData)"
   ]
  },
  {
   "cell_type": "code",
   "execution_count": 33,
   "metadata": {},
   "outputs": [],
   "source": [
    "# List (=DataFrame) vs Series\n",
    "# for running regression we want to work with DataFrames rather than Series"
   ]
  },
  {
   "cell_type": "code",
   "execution_count": 34,
   "metadata": {},
   "outputs": [],
   "source": [
    "y = data[['Avg_Math_Test_Score']]"
   ]
  },
  {
   "cell_type": "code",
   "execution_count": 35,
   "metadata": {},
   "outputs": [
    {
     "data": {
      "text/plain": [
       "pandas.core.frame.DataFrame"
      ]
     },
     "execution_count": 35,
     "metadata": {},
     "output_type": "execute_result"
    }
   ],
   "source": [
    "type(y)"
   ]
  },
  {
   "cell_type": "code",
   "execution_count": 36,
   "metadata": {},
   "outputs": [],
   "source": [
    "w = data['Avg_Math_Test_Score']"
   ]
  },
  {
   "cell_type": "code",
   "execution_count": 37,
   "metadata": {},
   "outputs": [
    {
     "data": {
      "text/plain": [
       "pandas.core.series.Series"
      ]
     },
     "execution_count": 37,
     "metadata": {},
     "output_type": "execute_result"
    }
   ],
   "source": [
    "type(w)"
   ]
  },
  {
   "cell_type": "code",
   "execution_count": 38,
   "metadata": {},
   "outputs": [
    {
     "name": "stdout",
     "output_type": "stream",
     "text": [
      "   LSD_ppm\n",
      "0     1.17\n",
      "1     2.97\n",
      "2     3.26\n",
      "3     4.69\n",
      "4     5.83\n",
      "5     6.00\n",
      "6     6.41\n"
     ]
    }
   ],
   "source": [
    "x = data[['LSD_ppm']]\n",
    "print(x)"
   ]
  },
  {
   "cell_type": "code",
   "execution_count": 39,
   "metadata": {},
   "outputs": [
    {
     "data": {
      "text/plain": [
       "pandas.core.frame.DataFrame"
      ]
     },
     "execution_count": 39,
     "metadata": {},
     "output_type": "execute_result"
    }
   ],
   "source": [
    "type(x)"
   ]
  },
  {
   "cell_type": "code",
   "execution_count": 40,
   "metadata": {},
   "outputs": [
    {
     "name": "stdout",
     "output_type": "stream",
     "text": [
      "   Time_Delay_in_Minutes  LSD_ppm  Avg_Math_Test_Score  High_Score  \\\n",
      "0                      5     1.17                78.93         150   \n",
      "1                     15     2.97                58.20         150   \n",
      "2                     30     3.26                67.47         150   \n",
      "3                     60     4.69                37.47         150   \n",
      "4                    120     5.83                45.65         150   \n",
      "5                    240     6.00                32.92         150   \n",
      "6                    480     6.41                29.97         150   \n",
      "\n",
      "   Squared_High_Scores  \n",
      "0                22500  \n",
      "1                22500  \n",
      "2                22500  \n",
      "3                22500  \n",
      "4                22500  \n",
      "5                22500  \n",
      "6                22500  \n"
     ]
    }
   ],
   "source": [
    "# deleting a column\n",
    "del data['Test_Subject']\n",
    "print(data)"
   ]
  },
  {
   "cell_type": "code",
   "execution_count": 41,
   "metadata": {},
   "outputs": [],
   "source": [
    "# importing python modules\n",
    "import life"
   ]
  },
  {
   "cell_type": "code",
   "execution_count": 42,
   "metadata": {},
   "outputs": [
    {
     "data": {
      "text/plain": [
       "module"
      ]
     },
     "execution_count": 42,
     "metadata": {},
     "output_type": "execute_result"
    }
   ],
   "source": [
    "type(life)"
   ]
  },
  {
   "cell_type": "code",
   "execution_count": 43,
   "metadata": {},
   "outputs": [
    {
     "data": {
      "text/plain": [
       "42"
      ]
     },
     "execution_count": 43,
     "metadata": {},
     "output_type": "execute_result"
    }
   ],
   "source": [
    "life.theAnswer"
   ]
  },
  {
   "cell_type": "code",
   "execution_count": 44,
   "metadata": {},
   "outputs": [],
   "source": [
    "import math"
   ]
  },
  {
   "cell_type": "code",
   "execution_count": 45,
   "metadata": {},
   "outputs": [
    {
     "data": {
      "text/plain": [
       "3.141592653589793"
      ]
     },
     "execution_count": 45,
     "metadata": {},
     "output_type": "execute_result"
    }
   ],
   "source": [
    "math.pi"
   ]
  },
  {
   "cell_type": "code",
   "execution_count": 46,
   "metadata": {},
   "outputs": [
    {
     "data": {
      "text/plain": [
       "2.718281828459045"
      ]
     },
     "execution_count": 46,
     "metadata": {},
     "output_type": "execute_result"
    }
   ],
   "source": [
    "math.e"
   ]
  },
  {
   "cell_type": "code",
   "execution_count": 47,
   "metadata": {},
   "outputs": [],
   "source": [
    "from life import theAnswer"
   ]
  },
  {
   "cell_type": "code",
   "execution_count": 48,
   "metadata": {},
   "outputs": [
    {
     "name": "stdout",
     "output_type": "stream",
     "text": [
      "42\n"
     ]
    }
   ],
   "source": [
    "myFavNum = theAnswer\n",
    "print(myFavNum)"
   ]
  },
  {
   "cell_type": "code",
   "execution_count": 49,
   "metadata": {},
   "outputs": [],
   "source": [
    "import matplotlib.pyplot as plt\n",
    "from sklearn.linear_model import LinearRegression"
   ]
  },
  {
   "cell_type": "code",
   "execution_count": 50,
   "metadata": {},
   "outputs": [],
   "source": [
    "# functions\n",
    "def get_milk():\n",
    "    print('open door')\n",
    "    print('walk to store')\n",
    "    print('buy milk')\n",
    "    print('return home with milk')"
   ]
  },
  {
   "cell_type": "code",
   "execution_count": 51,
   "metadata": {},
   "outputs": [
    {
     "name": "stdout",
     "output_type": "stream",
     "text": [
      "open door\n",
      "walk to store\n",
      "buy milk\n",
      "return home with milk\n"
     ]
    }
   ],
   "source": [
    "get_milk()"
   ]
  },
  {
   "cell_type": "code",
   "execution_count": 52,
   "metadata": {},
   "outputs": [],
   "source": [
    "# functions with arguments and parameters\n",
    "def fill_the_fridge(amount):\n",
    "    print('open door')\n",
    "    print('walk to store')\n",
    "    print('buy ' + amount + ' cartons of milk')\n",
    "    print('return home with milk')"
   ]
  },
  {
   "cell_type": "code",
   "execution_count": 53,
   "metadata": {},
   "outputs": [
    {
     "name": "stdout",
     "output_type": "stream",
     "text": [
      "open door\n",
      "walk to store\n",
      "buy five cartons of milk\n",
      "return home with milk\n"
     ]
    }
   ],
   "source": [
    "fill_the_fridge('five')"
   ]
  },
  {
   "cell_type": "code",
   "execution_count": 54,
   "metadata": {},
   "outputs": [],
   "source": [
    "# when defining a function, we define the input variable = parameter that we want to pass into the function\n",
    "# when call the function we provide the input value = argument"
   ]
  },
  {
   "cell_type": "code",
   "execution_count": 55,
   "metadata": {},
   "outputs": [],
   "source": [
    "def milk_mission(amount, destination):\n",
    "    print('open door')\n",
    "    print('walk to the ' + destination)\n",
    "    print('buy ' + amount + ' cartons of milk')\n",
    "    print('return home with milk')"
   ]
  },
  {
   "cell_type": "code",
   "execution_count": 56,
   "metadata": {},
   "outputs": [
    {
     "name": "stdout",
     "output_type": "stream",
     "text": [
      "open door\n",
      "walk to the supermarket\n",
      "buy six cartons of milk\n",
      "return home with milk\n"
     ]
    }
   ],
   "source": [
    "milk_mission('six', 'supermarket')"
   ]
  },
  {
   "cell_type": "code",
   "execution_count": 57,
   "metadata": {},
   "outputs": [],
   "source": [
    "def times(num1, num2):\n",
    "    result = num1 * num2\n",
    "    return result"
   ]
  },
  {
   "cell_type": "code",
   "execution_count": 58,
   "metadata": {},
   "outputs": [],
   "source": [
    "test = times(3.14, 5.09)"
   ]
  },
  {
   "cell_type": "code",
   "execution_count": 59,
   "metadata": {},
   "outputs": [
    {
     "name": "stdout",
     "output_type": "stream",
     "text": [
      "15.9826\n"
     ]
    }
   ],
   "source": [
    "print(test)"
   ]
  },
  {
   "cell_type": "code",
   "execution_count": 60,
   "metadata": {},
   "outputs": [],
   "source": [
    "# objects in python - attributes (->state of objects) & methods(-> behavior of objects)"
   ]
  },
  {
   "cell_type": "code",
   "execution_count": 61,
   "metadata": {},
   "outputs": [
    {
     "name": "stdout",
     "output_type": "stream",
     "text": [
      "I've calculated your chance of survival, but I don't think you'll like it.\n"
     ]
    }
   ],
   "source": [
    "life.quote_marvin()"
   ]
  },
  {
   "cell_type": "code",
   "execution_count": 62,
   "metadata": {},
   "outputs": [
    {
     "data": {
      "text/plain": [
       "7.946068210127573"
      ]
     },
     "execution_count": 62,
     "metadata": {},
     "output_type": "execute_result"
    }
   ],
   "source": [
    "math.sqrt(63.14)"
   ]
  },
  {
   "cell_type": "code",
   "execution_count": 64,
   "metadata": {},
   "outputs": [
    {
     "name": "stdout",
     "output_type": "stream",
     "text": [
      "7.946068210127573\n"
     ]
    }
   ],
   "source": [
    "result = life.square_root(63.14)\n",
    "print(result)"
   ]
  },
  {
   "cell_type": "code",
   "execution_count": 65,
   "metadata": {},
   "outputs": [
    {
     "name": "stdout",
     "output_type": "stream",
     "text": [
      "   Time_Delay_in_Minutes  LSD_ppm  Avg_Math_Test_Score  High_Score  \\\n",
      "0                      5     1.17                78.93         150   \n",
      "1                     15     2.97                58.20         150   \n",
      "2                     30     3.26                67.47         150   \n",
      "3                     60     4.69                37.47         150   \n",
      "4                    120     5.83                45.65         150   \n",
      "5                    240     6.00                32.92         150   \n",
      "6                    480     6.41                29.97         150   \n",
      "\n",
      "   Squared_High_Scores  \n",
      "0                22500  \n",
      "1                22500  \n",
      "2                22500  \n",
      "3                22500  \n",
      "4                22500  \n",
      "5                22500  \n",
      "6                22500  \n"
     ]
    }
   ],
   "source": [
    "print(data)"
   ]
  },
  {
   "cell_type": "code",
   "execution_count": 66,
   "metadata": {},
   "outputs": [
    {
     "data": {
      "text/html": [
       "<div>\n",
       "<style scoped>\n",
       "    .dataframe tbody tr th:only-of-type {\n",
       "        vertical-align: middle;\n",
       "    }\n",
       "\n",
       "    .dataframe tbody tr th {\n",
       "        vertical-align: top;\n",
       "    }\n",
       "\n",
       "    .dataframe thead th {\n",
       "        text-align: right;\n",
       "    }\n",
       "</style>\n",
       "<table border=\"1\" class=\"dataframe\">\n",
       "  <thead>\n",
       "    <tr style=\"text-align: right;\">\n",
       "      <th></th>\n",
       "      <th>Time_Delay_in_Minutes</th>\n",
       "      <th>LSD_ppm</th>\n",
       "      <th>Avg_Math_Test_Score</th>\n",
       "      <th>High_Score</th>\n",
       "      <th>Squared_High_Scores</th>\n",
       "    </tr>\n",
       "  </thead>\n",
       "  <tbody>\n",
       "    <tr>\n",
       "      <th>0</th>\n",
       "      <td>5</td>\n",
       "      <td>1.17</td>\n",
       "      <td>78.93</td>\n",
       "      <td>150</td>\n",
       "      <td>22500</td>\n",
       "    </tr>\n",
       "    <tr>\n",
       "      <th>1</th>\n",
       "      <td>15</td>\n",
       "      <td>2.97</td>\n",
       "      <td>58.20</td>\n",
       "      <td>150</td>\n",
       "      <td>22500</td>\n",
       "    </tr>\n",
       "    <tr>\n",
       "      <th>2</th>\n",
       "      <td>30</td>\n",
       "      <td>3.26</td>\n",
       "      <td>67.47</td>\n",
       "      <td>150</td>\n",
       "      <td>22500</td>\n",
       "    </tr>\n",
       "    <tr>\n",
       "      <th>3</th>\n",
       "      <td>60</td>\n",
       "      <td>4.69</td>\n",
       "      <td>37.47</td>\n",
       "      <td>150</td>\n",
       "      <td>22500</td>\n",
       "    </tr>\n",
       "    <tr>\n",
       "      <th>4</th>\n",
       "      <td>120</td>\n",
       "      <td>5.83</td>\n",
       "      <td>45.65</td>\n",
       "      <td>150</td>\n",
       "      <td>22500</td>\n",
       "    </tr>\n",
       "    <tr>\n",
       "      <th>5</th>\n",
       "      <td>240</td>\n",
       "      <td>6.00</td>\n",
       "      <td>32.92</td>\n",
       "      <td>150</td>\n",
       "      <td>22500</td>\n",
       "    </tr>\n",
       "    <tr>\n",
       "      <th>6</th>\n",
       "      <td>480</td>\n",
       "      <td>6.41</td>\n",
       "      <td>29.97</td>\n",
       "      <td>150</td>\n",
       "      <td>22500</td>\n",
       "    </tr>\n",
       "  </tbody>\n",
       "</table>\n",
       "</div>"
      ],
      "text/plain": [
       "   Time_Delay_in_Minutes  LSD_ppm  Avg_Math_Test_Score  High_Score  \\\n",
       "0                      5     1.17                78.93         150   \n",
       "1                     15     2.97                58.20         150   \n",
       "2                     30     3.26                67.47         150   \n",
       "3                     60     4.69                37.47         150   \n",
       "4                    120     5.83                45.65         150   \n",
       "5                    240     6.00                32.92         150   \n",
       "6                    480     6.41                29.97         150   \n",
       "\n",
       "   Squared_High_Scores  \n",
       "0                22500  \n",
       "1                22500  \n",
       "2                22500  \n",
       "3                22500  \n",
       "4                22500  \n",
       "5                22500  \n",
       "6                22500  "
      ]
     },
     "execution_count": 66,
     "metadata": {},
     "output_type": "execute_result"
    }
   ],
   "source": [
    "data"
   ]
  },
  {
   "cell_type": "code",
   "execution_count": 67,
   "metadata": {},
   "outputs": [],
   "source": [
    "del data['High_Score']\n",
    "del data['Squared_High_Scores']"
   ]
  },
  {
   "cell_type": "code",
   "execution_count": 68,
   "metadata": {},
   "outputs": [
    {
     "data": {
      "text/html": [
       "<div>\n",
       "<style scoped>\n",
       "    .dataframe tbody tr th:only-of-type {\n",
       "        vertical-align: middle;\n",
       "    }\n",
       "\n",
       "    .dataframe tbody tr th {\n",
       "        vertical-align: top;\n",
       "    }\n",
       "\n",
       "    .dataframe thead th {\n",
       "        text-align: right;\n",
       "    }\n",
       "</style>\n",
       "<table border=\"1\" class=\"dataframe\">\n",
       "  <thead>\n",
       "    <tr style=\"text-align: right;\">\n",
       "      <th></th>\n",
       "      <th>Time_Delay_in_Minutes</th>\n",
       "      <th>LSD_ppm</th>\n",
       "      <th>Avg_Math_Test_Score</th>\n",
       "    </tr>\n",
       "  </thead>\n",
       "  <tbody>\n",
       "    <tr>\n",
       "      <th>0</th>\n",
       "      <td>5</td>\n",
       "      <td>1.17</td>\n",
       "      <td>78.93</td>\n",
       "    </tr>\n",
       "    <tr>\n",
       "      <th>1</th>\n",
       "      <td>15</td>\n",
       "      <td>2.97</td>\n",
       "      <td>58.20</td>\n",
       "    </tr>\n",
       "    <tr>\n",
       "      <th>2</th>\n",
       "      <td>30</td>\n",
       "      <td>3.26</td>\n",
       "      <td>67.47</td>\n",
       "    </tr>\n",
       "    <tr>\n",
       "      <th>3</th>\n",
       "      <td>60</td>\n",
       "      <td>4.69</td>\n",
       "      <td>37.47</td>\n",
       "    </tr>\n",
       "    <tr>\n",
       "      <th>4</th>\n",
       "      <td>120</td>\n",
       "      <td>5.83</td>\n",
       "      <td>45.65</td>\n",
       "    </tr>\n",
       "    <tr>\n",
       "      <th>5</th>\n",
       "      <td>240</td>\n",
       "      <td>6.00</td>\n",
       "      <td>32.92</td>\n",
       "    </tr>\n",
       "    <tr>\n",
       "      <th>6</th>\n",
       "      <td>480</td>\n",
       "      <td>6.41</td>\n",
       "      <td>29.97</td>\n",
       "    </tr>\n",
       "  </tbody>\n",
       "</table>\n",
       "</div>"
      ],
      "text/plain": [
       "   Time_Delay_in_Minutes  LSD_ppm  Avg_Math_Test_Score\n",
       "0                      5     1.17                78.93\n",
       "1                     15     2.97                58.20\n",
       "2                     30     3.26                67.47\n",
       "3                     60     4.69                37.47\n",
       "4                    120     5.83                45.65\n",
       "5                    240     6.00                32.92\n",
       "6                    480     6.41                29.97"
      ]
     },
     "execution_count": 68,
     "metadata": {},
     "output_type": "execute_result"
    }
   ],
   "source": [
    "data"
   ]
  },
  {
   "cell_type": "code",
   "execution_count": 81,
   "metadata": {},
   "outputs": [],
   "source": [
    "time = data[['Time_Delay_in_Minutes']]\n",
    "LSD = data[['LSD_ppm']]\n",
    "score = data[['Avg_Math_Test_Score']]"
   ]
  },
  {
   "cell_type": "code",
   "execution_count": 79,
   "metadata": {},
   "outputs": [
    {
     "data": {
      "image/png": "[encoded data removed]",
      "text/plain": [
       "<Figure size 432x288 with 1 Axes>"
      ]
     },
     "metadata": {
      "needs_background": "light"
     },
     "output_type": "display_data"
    }
   ],
   "source": [
    "# styling a chart\n",
    "\n",
    "#tell jupyter to export chart when downloading notebook\n",
    "%matplotlib inline\n",
    "\n",
    "plt.title('Tissue concentration of lSD over time', fontsize=17)\n",
    "plt.xlabel('Time in min', fontsize=14)\n",
    "plt.ylabel('Tissue LSD ppm', fontsize=14)\n",
    "plt.text(x=0, y=-0.5, s='Wagner et al. (1968)')\n",
    "plt.xticks(fontsize=14)\n",
    "plt.yticks(fontsize=14)\n",
    "\n",
    "plt.ylim(1,7)\n",
    "plt.xlim(0,500)\n",
    "\n",
    "plt.style.use('classic')\n",
    "\n",
    "plt.plot(time, LSD, color='#E64A19', linewidth=3)\n",
    "plt.show()"
   ]
  },
  {
   "cell_type": "code",
   "execution_count": 82,
   "metadata": {},
   "outputs": [
    {
     "data": {
      "text/plain": [
       "LinearRegression()"
      ]
     },
     "execution_count": 82,
     "metadata": {},
     "output_type": "execute_result"
    }
   ],
   "source": [
    "regr = LinearRegression()\n",
    "regr.fit(LSD, score)"
   ]
  },
  {
   "cell_type": "code",
   "execution_count": 97,
   "metadata": {},
   "outputs": [
    {
     "name": "stdout",
     "output_type": "stream",
     "text": [
      "Theta1:  -9.009466415296785\n",
      "Intercept:  89.12387376799308\n",
      "R-square:  0.8778349707775889\n"
     ]
    }
   ],
   "source": [
    "print('Theta1: ', regr.coef_[0][0])\n",
    "print('Intercept: ', regr.intercept_[0])\n",
    "print('R-square: ', regr.score(LSD, score))\n",
    "\n",
    "predicted_score = regr.predict(LSD)"
   ]
  },
  {
   "cell_type": "code",
   "execution_count": 99,
   "metadata": {},
   "outputs": [
    {
     "data": {
      "image/png": "[encoded data removed]",
      "text/plain": [
       "<Figure size 432x288 with 1 Axes>"
      ]
     },
     "metadata": {
      "needs_background": "light"
     },
     "output_type": "display_data"
    }
   ],
   "source": [
    "%matplotlib inline\n",
    "\n",
    "# another graph option: scatter\n",
    "plt.title('Arithmetic vs LSD-25', fontsize=17)\n",
    "plt.ylabel('Performance Score', fontsize=14)\n",
    "plt.xlabel('Tissue LSD ppm', fontsize=14)\n",
    "plt.ylim(25, 85)\n",
    "plt.xlim(1, 6.5)\n",
    "plt.style.use('fivethirtyeight')\n",
    "\n",
    "plt.scatter(LSD, score, color='blue', s=100, alpha=0.5)\n",
    "plt.plot(LSD, predicted_score, color='red', linewidth=3)\n",
    "plt.show()"
   ]
  },
  {
   "cell_type": "code",
   "execution_count": null,
   "metadata": {},
   "outputs": [],
   "source": []
  }
 ],
 "metadata": {
  "kernelspec": {
   "display_name": "Python 3",
   "language": "python",
   "name": "python3"
  },
  "language_info": {
   "codemirror_mode": {
    "name": "ipython",
    "version": 3
   },
   "file_extension": ".py",
   "mimetype": "text/x-python",
   "name": "python",
   "nbconvert_exporter": "python",
   "pygments_lexer": "ipython3",
   "version": "3.8.3"
  }
 },
 "nbformat": 4,
 "nbformat_minor": 4
}
