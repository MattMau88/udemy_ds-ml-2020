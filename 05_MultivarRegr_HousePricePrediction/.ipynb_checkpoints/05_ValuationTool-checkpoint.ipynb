{
 "cells": [
  {
   "cell_type": "code",
   "execution_count": 103,
   "id": "18953d36",
   "metadata": {},
   "outputs": [],
   "source": [
    "from sklearn.datasets import load_boston\n",
    "from sklearn.linear_model import LinearRegression\n",
    "from sklearn.metrics import mean_squared_error\n",
    "\n",
    "import pandas as pd\n",
    "import numpy as np"
   ]
  },
  {
   "cell_type": "code",
   "execution_count": 119,
   "id": "a1a22bb5",
   "metadata": {},
   "outputs": [],
   "source": [
    "# Gather Data\n",
    "boston_dataset = load_boston()\n",
    "data = pd.DataFrame(data=boston_dataset.data, columns=boston_dataset.feature_names)\n",
    "features = data.drop(['INDUS', 'AGE'], axis=1)\n",
    "\n",
    "log_prices = np.log(boston_dataset.target)\n",
    "target = pd.DataFrame(log_prices, columns=['PRICE'])"
   ]
  },
  {
   "cell_type": "code",
   "execution_count": 120,
   "id": "b38af6e9",
   "metadata": {},
   "outputs": [],
   "source": [
    "CRIME_IDX = 0\n",
    "ZN_IDX = 1\n",
    "CHAS_IDX = 2\n",
    "RM_IDX = 4\n",
    "PTRATIO_IDX = 8\n",
    "\n",
    "# making a template for the predictions -> object to work with\n",
    "property_stats = features.mean().values.reshape(1, 11) # reshaping into same type(\"numpy.ndarray\") as features"
   ]
  },
  {
   "cell_type": "code",
   "execution_count": 121,
   "id": "ffc4272e",
   "metadata": {},
   "outputs": [
    {
     "data": {
      "text/plain": [
       "pandas.core.series.Series"
      ]
     },
     "execution_count": 121,
     "metadata": {},
     "output_type": "execute_result"
    }
   ],
   "source": [
    "type(features.mean())"
   ]
  },
  {
   "cell_type": "code",
   "execution_count": 122,
   "id": "988ed99e",
   "metadata": {},
   "outputs": [
    {
     "data": {
      "text/plain": [
       "numpy.ndarray"
      ]
     },
     "execution_count": 122,
     "metadata": {},
     "output_type": "execute_result"
    }
   ],
   "source": [
    "type(features.mean().values)"
   ]
  },
  {
   "cell_type": "code",
   "execution_count": 123,
   "id": "1bdec76c",
   "metadata": {},
   "outputs": [
    {
     "data": {
      "text/plain": [
       "array([[3.61352356e+00, 1.13636364e+01, 6.91699605e-02, 5.54695059e-01,\n",
       "        6.28463439e+00, 3.79504269e+00, 9.54940711e+00, 4.08237154e+02,\n",
       "        1.84555336e+01, 3.56674032e+02, 1.26530632e+01]])"
      ]
     },
     "execution_count": 123,
     "metadata": {},
     "output_type": "execute_result"
    }
   ],
   "source": [
    "features.mean().values.reshape(1, 11)"
   ]
  },
  {
   "cell_type": "code",
   "execution_count": 124,
   "id": "4528303d",
   "metadata": {},
   "outputs": [],
   "source": [
    "regr = LinearRegression().fit(features, target)"
   ]
  },
  {
   "cell_type": "code",
   "execution_count": 125,
   "id": "0cf305cc",
   "metadata": {},
   "outputs": [],
   "source": [
    "fitted_vals = regr.predict(features) # object to hold all predictions"
   ]
  },
  {
   "cell_type": "code",
   "execution_count": 126,
   "id": "d93d83d7",
   "metadata": {},
   "outputs": [],
   "source": [
    "# calculate the MSE and RSME using sklearn\n",
    "MSE = mean_squared_error(target, fitted_vals)\n",
    "RMSE = np.sqrt(MSE)"
   ]
  },
  {
   "cell_type": "code",
   "execution_count": 127,
   "id": "478cd8c7",
   "metadata": {},
   "outputs": [],
   "source": [
    "# create Python function to estimate the log prices of specific property\n",
    "\n",
    "def get_log_estimate(nr_rooms,\n",
    "                    students_per_classroom,\n",
    "                    next_to_river=False,\n",
    "                    high_confidence=True):\n",
    "    \n",
    "    # configure property\n",
    "    property_stats[0][RM_IDX] = nr_rooms\n",
    "    property_stats[0][PTRATIO_IDX] = students_per_classroom\n",
    "    \n",
    "    if next_to_river:\n",
    "        property_stats[0][CHAS_IDX] = 1\n",
    "    else:\n",
    "        property_stats[0][CHAS_IDX] = 0\n",
    "    \n",
    "    # make prediction\n",
    "    log_estimate = regr.predict(property_stats)\n",
    "    \n",
    "    # claculate range\n",
    "    if high_confidence:\n",
    "        upper_bound = log_estimate + 2*RMSE\n",
    "        lower_bound = log_estimate - 2*RMSE\n",
    "        interval = 95\n",
    "    else:\n",
    "        upper_bound = log_estimate + RMSE\n",
    "        lower_bound = log_estimate - RMSE\n",
    "        interval = 68\n",
    "    \n",
    "    return log_estimate, upper_bound, lower_bound, interval"
   ]
  },
  {
   "cell_type": "code",
   "execution_count": 129,
   "id": "27d4d7e1",
   "metadata": {},
   "outputs": [
    {
     "data": {
      "text/plain": [
       "(array([[2.77675819]]), array([[2.96427033]]), array([[2.58924606]]), 68)"
      ]
     },
     "execution_count": 129,
     "metadata": {},
     "output_type": "execute_result"
    }
   ],
   "source": [
    "get_log_estimate(3, 20, next_to_river=True, high_confidence=False)"
   ]
  },
  {
   "cell_type": "code",
   "execution_count": 117,
   "id": "7e851eeb",
   "metadata": {},
   "outputs": [
    {
     "name": "stdout",
     "output_type": "stream",
     "text": [
      "The estimated property value is [[827000.]].\n",
      "At 68% confidence the valuation range is\n",
      "USD [[685000.]] at the lower end to USD [[997000.]] at the high end.\n"
     ]
    }
   ],
   "source": [
    "# Challenge: Write the python code that converts the log price estimate using 1970s prices\n",
    "# as well as the upper and the lower bounds to today's prices. Round the values to the \n",
    "# nearest 1000 dollars. \n",
    "\n",
    "# look up and define today's median hosue price\n",
    "ZILLOW_MEDIAN_PRICE = 583.3\n",
    "\n",
    "SCALE_FACTOR = ZILLOW_MEDIAN_PRICE / np.median(boston_dataset.target)\n",
    "\n",
    "log_est, upper, lower, conf = get_log_estimate(nr_rooms=9, students_per_classroom=15, \n",
    "                                              next_to_river=False, high_confidence=False)\n",
    "\n",
    "# Convert to today's dollars\n",
    "dollar_est = np.e**log_est * 1000 * SCALE_FACTOR\n",
    "dollar_hi = np.e**upper * 1000 * SCALE_FACTOR\n",
    "dollar_low = np.e**lower * 1000 * SCALE_FACTOR\n",
    "\n",
    "# Round the dollar values to nearest thousand\n",
    "rounded_est = np.around(dollar_est, -3)\n",
    "rounded_hi = np.around(dollar_hi, -3)\n",
    "rounded_low = np.around(dollar_low, -3)\n",
    "\n",
    "print(f'The estimated property value is {rounded_est}.')\n",
    "print(f'At {conf}% confidence the valuation range is')\n",
    "print(f'USD {rounded_low} at the lower end to USD {rounded_hi} at the high end.')"
   ]
  },
  {
   "cell_type": "code",
   "execution_count": 134,
   "id": "943f67c7",
   "metadata": {},
   "outputs": [],
   "source": [
    "def get_dollar_estimate(rm, ptratio, chas=False, large_range=True):\n",
    "    \n",
    "    # adding \"docstring\" descrition of function\n",
    "    \"\"\"Estimate the price of a property in Boston.\n",
    "    \n",
    "    Keyword arguments:\n",
    "    rm -- number of rooms in the property.\n",
    "    ptratio -- number of students per teacher in the classroom for the school in the area.\n",
    "    chas -- True if the property is next to the river, False otherwise.\n",
    "    large_range -- True for a 95% prediction interval, False for a 68% interval.\n",
    "    \n",
    "    \"\"\"\n",
    "    \n",
    "    \n",
    "    if rm < 1 or ptratio < 1:\n",
    "        print('That is unrealistic. Try again.')\n",
    "        return\n",
    "\n",
    "    log_est, upper, lower, conf = get_log_estimate(rm, \n",
    "                                                   students_per_classroom=ptratio, \n",
    "                                                   next_to_river=chas, \n",
    "                                                   high_confidence=large_range)\n",
    "\n",
    "    # Convert to today's dollars\n",
    "    dollar_est = np.e**log_est * 1000 * SCALE_FACTOR\n",
    "    dollar_hi = np.e**upper * 1000 * SCALE_FACTOR\n",
    "    dollar_low = np.e**lower * 1000 * SCALE_FACTOR\n",
    "\n",
    "    # Round the dollar values to nearest thousand\n",
    "    rounded_est = np.around(dollar_est, -3)\n",
    "    rounded_hi = np.around(dollar_hi, -3)\n",
    "    rounded_low = np.around(dollar_low, -3)\n",
    "\n",
    "    print(f'The estimated property value is {rounded_est}.')\n",
    "    print(f'At {conf}% confidence the valuation range is')\n",
    "    print(f'USD {rounded_low} at the lower end to USD {rounded_hi} at the high end.')"
   ]
  },
  {
   "cell_type": "code",
   "execution_count": 133,
   "id": "59a6379b",
   "metadata": {},
   "outputs": [
    {
     "name": "stdout",
     "output_type": "stream",
     "text": [
      "The estimated property value is [[442000.]].\n",
      "At 95% confidence the valuation range is\n",
      "USD [[304000.]] at the lower end to USD [[643000.]] at the high end.\n"
     ]
    }
   ],
   "source": [
    "get_dollar_estimate(rm=3, ptratio=20, chas=True)"
   ]
  },
  {
   "cell_type": "code",
   "execution_count": 135,
   "id": "445877c9",
   "metadata": {},
   "outputs": [
    {
     "name": "stdout",
     "output_type": "stream",
     "text": [
      "The estimated property value is 783000.0.\n",
      "At 95% confidence the valuation range is\n",
      "USD 538000.0 at the lower end to USD 1139000.0 at the high end.\n"
     ]
    }
   ],
   "source": [
    "import boston_valuation as val\n",
    "val.get_dollar_estimate(6, 12, True)"
   ]
  },
  {
   "cell_type": "code",
   "execution_count": null,
   "id": "a1ea7052",
   "metadata": {},
   "outputs": [],
   "source": []
  }
 ],
 "metadata": {
  "kernelspec": {
   "display_name": "Python 3",
   "language": "python",
   "name": "python3"
  },
  "language_info": {
   "codemirror_mode": {
    "name": "ipython",
    "version": 3
   },
   "file_extension": ".py",
   "mimetype": "text/x-python",
   "name": "python",
   "nbconvert_exporter": "python",
   "pygments_lexer": "ipython3",
   "version": "3.8.3"
  }
 },
 "nbformat": 4,
 "nbformat_minor": 5
}
